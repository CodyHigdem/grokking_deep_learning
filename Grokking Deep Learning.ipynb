{
 "cells": [
  {
   "cell_type": "markdown",
   "metadata": {},
   "source": [
    "# Deep Learning\n",
    "\n",
    "\n",
    "## Supervised\n",
    "A lot of things but ultimately it's taking what we know and finding a methodology (Sherlock Holmesing it) into what we want to know. \n",
    "\n",
    "## Unsupervised\n",
    "\n",
    "Is about clustering unknown data into commonalities. \n",
    "\n",
    "## Parametric Learning vs Unparametric Learning\n",
    "\n",
    "The basis of this is trial and error learning vs counting and labeling learning"
   ]
  },
  {
   "cell_type": "code",
   "execution_count": null,
   "metadata": {
    "collapsed": true
   },
   "outputs": [],
   "source": []
  }
 ],
 "metadata": {
  "kernelspec": {
   "display_name": "Python 2",
   "language": "python",
   "name": "python2"
  },
  "language_info": {
   "codemirror_mode": {
    "name": "ipython",
    "version": 2
   },
   "file_extension": ".py",
   "mimetype": "text/x-python",
   "name": "python",
   "nbconvert_exporter": "python",
   "pygments_lexer": "ipython2",
   "version": "2.7.12"
  }
 },
 "nbformat": 4,
 "nbformat_minor": 0
}
