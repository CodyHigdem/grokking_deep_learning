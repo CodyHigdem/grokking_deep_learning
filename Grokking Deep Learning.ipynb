{
 "cells": [
  {
   "cell_type": "markdown",
   "metadata": {},
   "source": [
    "# Deep Learning\n",
    "\n",
    "\n",
    "## Supervised\n",
    "A lot of things but ultimately it's taking what we know and finding a methodology (Sherlock Holmesing it) into what we want to know. \n",
    "\n",
    "## Unsupervised\n",
    "\n",
    "Is about clustering unknown data into commonalities. \n",
    "\n",
    "## Parametric Learning vs Unparametric Learning\n",
    "\n",
    "The basis of this is trial and error learning vs counting and labeling learning.\n",
    "\n",
    "A parametric model is characterized by having a fi xed number of parameters whereas\n",
    "a non-parametric model's number of parameters is infi nite (determined by data).\n"
   ]
  },
  {
   "cell_type": "markdown",
   "metadata": {
    "collapsed": true
   },
   "source": [
    "### Simple Neural Network example\n",
    "\n",
    "input data enters in, it receives a weight and then a prediction comes out. \n",
    "\n",
    "Input => weights are applied => prediction"
   ]
  },
  {
   "cell_type": "code",
   "execution_count": 2,
   "metadata": {
    "collapsed": true
   },
   "outputs": [],
   "source": [
    "weight = 0.1\n",
    "def simple_neural_network(input, weight):\n",
    "    prediction = input * weight\n",
    "    return prediction"
   ]
  },
  {
   "cell_type": "code",
   "execution_count": 3,
   "metadata": {
    "collapsed": false
   },
   "outputs": [
    {
     "name": "stdout",
     "output_type": "stream",
     "text": [
      "0.85\n"
     ]
    }
   ],
   "source": [
    "number_of_toes = [8.5, 9.5, 10, 9]\n",
    "input = number_of_toes[0]\n",
    "pred = simple_neural_network(input, weight)\n",
    "print(pred)"
   ]
  },
  {
   "cell_type": "code",
   "execution_count": null,
   "metadata": {
    "collapsed": true
   },
   "outputs": [],
   "source": []
  }
 ],
 "metadata": {
  "kernelspec": {
   "display_name": "Python 2",
   "language": "python",
   "name": "python2"
  },
  "language_info": {
   "codemirror_mode": {
    "name": "ipython",
    "version": 2
   },
   "file_extension": ".py",
   "mimetype": "text/x-python",
   "name": "python",
   "nbconvert_exporter": "python",
   "pygments_lexer": "ipython2",
   "version": "2.7.12"
  }
 },
 "nbformat": 4,
 "nbformat_minor": 0
}
